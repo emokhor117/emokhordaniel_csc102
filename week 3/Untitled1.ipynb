{
 "cells": [
  {
   "cell_type": "markdown",
   "metadata": {},
   "source": [
    "# EMOKHOR Daniel\n",
    "### Matriculation number- 21120612457\n"
   ]
  },
  {
   "cell_type": "markdown",
   "metadata": {},
   "source": [
    "# Question 1\n",
    "\n",
    "### INPUT Customer's Name \n",
    "### INPUT Customer's Order\n",
    "### INPUT Quantity\n",
    "### COMPUTE add up the total charge\n",
    "### IF the customer's order is less than 10,000 naira\n",
    "### COMPUTE 10% of the charge\n",
    "### IF the customer's order is above 10,000 but less than 15,000\n",
    "### COMPUTE 15% of the charge\n",
    "### IF the customer's order is above 15,000\n",
    "### COMPUTE 25% of the order charge\n",
    "## END"
   ]
  },
  {
   "cell_type": "code",
   "execution_count": null,
   "metadata": {},
   "outputs": [],
   "source": [
    "#Question1b \n",
    "print ('Welcome to PAU cafteria')\n",
    "print ('This is the menu for today: ')\n",
    "a = print ('Click a for Fried Rice & Chicken - #6,000')\n",
    "b = print ('Click b for Poundo Yam/ Edinkaiko Soup- #5,500')\n",
    "c = print ('Click c for Amala & Ewedu soup- #4,500')\n",
    "d = print ('Click d for Eba & Egusi soup- #4,000')\n",
    "e = print ('Click e for White rice and stew- #4,500')\n",
    "\n",
    "\n",
    "j = input('Please what would you liked to be served? ')\n",
    "if j == 'a':\n",
    "     print(int(input('Your bill is #6,000')))\n",
    "     \n",
    "else: \n",
    "     print(int(input('select a valid option ')))\n",
    "\n",
    "\n",
    "    "
   ]
  },
  {
   "cell_type": "code",
   "execution_count": null,
   "metadata": {},
   "outputs": [],
   "source": []
  }
 ],
 "metadata": {
  "kernelspec": {
   "display_name": "Python 3",
   "language": "python",
   "name": "python3"
  },
  "language_info": {
   "codemirror_mode": {
    "name": "ipython",
    "version": 3
   },
   "file_extension": ".py",
   "mimetype": "text/x-python",
   "name": "python",
   "nbconvert_exporter": "python",
   "pygments_lexer": "ipython3",
   "version": "3.8.3"
  }
 },
 "nbformat": 4,
 "nbformat_minor": 4
}

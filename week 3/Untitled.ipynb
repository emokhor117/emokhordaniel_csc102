{
 "cells": [
  {
   "cell_type": "markdown",
   "metadata": {},
   "source": [
    "# PSEUDOCODE FOR A GRADING SYSTEM\n",
    "\n",
    "#### INPUT the student's grade into the database\n",
    "#### IF the student's grade is greater than or equal to 70, the student is given an A.\n",
    "####      ELIF the student's grade is between 65 and 69, the student is given a B.\n",
    "####           ELIF the student's grade is between 60 and 64, the student is given a C.\n",
    "####               ELIF the student's grade is between 50 and 59, the student is given a D.\n",
    "####                        ELIF the student's grade is between 0 and 49, the student is given an F.\n",
    "####                        ELSE find the correct score from the database and award the appropriate grade to the student.\n",
    "####               \n",
    "### END"
   ]
  },
  {
   "cell_type": "code",
   "execution_count": null,
   "metadata": {},
   "outputs": [],
   "source": []
  }
 ],
 "metadata": {
  "kernelspec": {
   "display_name": "Python 3",
   "language": "python",
   "name": "python3"
  },
  "language_info": {
   "codemirror_mode": {
    "name": "ipython",
    "version": 3
   },
   "file_extension": ".py",
   "mimetype": "text/x-python",
   "name": "python",
   "nbconvert_exporter": "python",
   "pygments_lexer": "ipython3",
   "version": "3.8.3"
  }
 },
 "nbformat": 4,
 "nbformat_minor": 4
}

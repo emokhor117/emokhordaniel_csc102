{
 "cells": [
  {
   "cell_type": "markdown",
   "metadata": {},
   "source": [
    "## CLASS Project 1\n",
    "#### INPUT variable number\n",
    "#### INPUT 17\n",
    "#### COMPUTE variable number - 17\n",
    "#### IF variable number > 17\n",
    "#### RETURN double the absolute difference\n",
    "#### ELSE \n",
    "#### RETURN the absolute difference\n",
    "\n"
   ]
  },
  {
   "cell_type": "code",
   "execution_count": 8,
   "metadata": {},
   "outputs": [
    {
     "name": "stdout",
     "output_type": "stream",
     "text": [
      "CLASS PROJECT\n",
      "please input your variable number here67\n",
      "50\n",
      "100\n"
     ]
    }
   ],
   "source": [
    "print ('CLASS PROJECT')\n",
    "a=int(input('please input your variable number here'))\n",
    "b=17\n",
    "\n",
    "c=a - b\n",
    "d = c*2\n",
    "print (c)\n",
    "if a > b:\n",
    "    print (d)\n",
    "else:\n",
    "    print(c)\n"
   ]
  },
  {
   "cell_type": "markdown",
   "metadata": {},
   "source": [
    "![Picture1](images/Picture1.png)\n"
   ]
  },
  {
   "cell_type": "markdown",
   "metadata": {},
   "source": [
    "## CLASS Project 2\n",
    "#### INPUT Number 1\n",
    "#### INPUT Number 2\n",
    "#### INPUT Number 3\n",
    "### IF\n",
    "#### all 3 values are equal \n",
    "#### COMPUTE 3 times their sum\n",
    "### ELSE\n",
    "#### COMPUTE the sum of all three values\n"
   ]
  },
  {
   "cell_type": "code",
   "execution_count": 10,
   "metadata": {},
   "outputs": [
    {
     "name": "stdout",
     "output_type": "stream",
     "text": [
      "CLASS Project 2\n",
      "NUMBER 1: 4\n",
      "NUMBER 2: 4\n",
      "NUMBER 3: 4\n",
      "36\n"
     ]
    }
   ],
   "source": [
    "print('CLASS Project 2')\n",
    "a = int(input('NUMBER 1: '))\n",
    "b = int(input('NUMBER 2: '))\n",
    "c = int(input('NUMBER 3: '))\n",
    "\n",
    "d = a+b+c\n",
    "e = (a+b+c)*3\n",
    "if a == b == c:\n",
    "    print (e)\n",
    "else:\n",
    "    print (d)"
   ]
  },
  {
   "cell_type": "markdown",
   "metadata": {},
   "source": [
    "![Picture2](images/Picture2.png)"
   ]
  },
  {
   "cell_type": "code",
   "execution_count": null,
   "metadata": {},
   "outputs": [],
   "source": []
  }
 ],
 "metadata": {
  "kernelspec": {
   "display_name": "Python 3",
   "language": "python",
   "name": "python3"
  },
  "language_info": {
   "codemirror_mode": {
    "name": "ipython",
    "version": 3
   },
   "file_extension": ".py",
   "mimetype": "text/x-python",
   "name": "python",
   "nbconvert_exporter": "python",
   "pygments_lexer": "ipython3",
   "version": "3.8.3"
  }
 },
 "nbformat": 4,
 "nbformat_minor": 4
}

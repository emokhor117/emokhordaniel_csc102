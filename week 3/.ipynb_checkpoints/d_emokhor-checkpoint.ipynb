{
 "cells": [
  {
   "cell_type": "markdown",
   "metadata": {},
   "source": [
    "# EMOKHOR Daniel\n",
    "### Matriculation number- 21120612457"
   ]
  },
  {
   "cell_type": "markdown",
   "metadata": {},
   "source": [
    "# Question 1\n",
    "\n",
    "### INPUT Customer's Name \n",
    "### INPUT Customer's Order\n",
    "### INPUT Quantity\n",
    "### COMPUTE add up the total charge\n",
    "### IF the customer's order is less than 10,000 naira\n",
    "### COMPUTE 10% of the charge\n",
    "### IF the customer's order is above 10,000 but less than 15,000\n",
    "### COMPUTE 15% of the charge\n",
    "### IF the customer's order is above 15,000\n",
    "### COMPUTE 25% of the order charge\n",
    "## END"
   ]
  },
  {
   "cell_type": "code",
   "execution_count": 15,
   "metadata": {},
   "outputs": [
    {
     "name": "stdout",
     "output_type": "stream",
     "text": [
      "Welcome to PAU online cafteria\n",
      "This is the menu for today: \n",
      "Click a for Fried Rice & Chicken - #6,000\n",
      "Click b for Poundo Yam/ Edinkaiko Soup- #5,500\n",
      "Click c for Amala & Ewedu soup- #4,500\n",
      "Click d for Eba & Egusi soup- #4,000\n",
      "Click e for White rice and stew- #4,500\n",
      "Please what would you liked to be served? a\n",
      "Your bill is  5400.0 and your order is on the way\n"
     ]
    }
   ],
   "source": [
    "#Question1b \n",
    "print ('Welcome to PAU online cafteria')\n",
    "print ('This is the menu for today: ')\n",
    "a = print ('Click a for Fried Rice & Chicken - #6,000')\n",
    "b = print ('Click b for Poundo Yam/ Edinkaiko Soup- #5,500')\n",
    "c = print ('Click c for Amala & Ewedu soup- #4,500')\n",
    "d = print ('Click d for Eba & Egusi soup- #4,000')\n",
    "e = print ('Click e for White rice and stew- #4,500')\n",
    "r = 6000\n",
    "s = 5500\n",
    "t = 4500\n",
    "u = 4000\n",
    "v = 4500\n",
    "\n",
    "k = 6000 - 10/100 * r \n",
    "l = 5500 - 10/100 * s \n",
    "m = 4500 - 10/100 * t \n",
    "n = 4000 - 10/100 * u \n",
    "o = 4500 - 10/100 * v\n",
    "\n",
    "\n",
    "j = input('Please what would you liked to be served? ')\n",
    "if j == 'a':\n",
    "     print('Your bill is ', k, 'and your order is on the way')\n",
    "        \n",
    "elif j == 'b':\n",
    "    print('Your bill is ', l, 'and your order is on the way')\n",
    "    \n",
    "elif j == 'c':\n",
    "    print('Your bill is ', m, 'and your order is on the way')\n",
    "elif j == 'd':\n",
    "    print('Your bill is ', n,'and your order is on the way')\n",
    "elif j == 'e':\n",
    "    print('Your bill is ', o, 'and your order is on the way')\n",
    "else:\n",
    "    print('Please select a valid option')\n",
    "\n"
   ]
  },
  {
   "cell_type": "markdown",
   "metadata": {},
   "source": [
    "# Question 2\n",
    "## INPUT Employee name\n",
    "## INPUT Employee years \n",
    "## INPUT Employee assessment record\n",
    "## INPUT Employee points\n",
    "## IF Employee assesment record is less than 40.0 the employee has 1 point. \n",
    "## IF Employee assesment record is less than 50.0 and greater than 39.0 the employee has 2 point.\n",
    "## IF Employee assesment record is less than 60.0 and greater than 49.0 the employee has 3 point.\n",
    "## IF Employee assesment record is less than 70.0 and greater than 59.0 the employee has 4 point.\n",
    "## IF the assesment record is greater than 69.0 employee has 5 point.\n",
    "## Multiply each employees assessment record with the point divided by total number of employees\n",
    "## END"
   ]
  },
  {
   "cell_type": "code",
   "execution_count": 28,
   "metadata": {},
   "outputs": [
    {
     "name": "stdout",
     "output_type": "stream",
     "text": [
      "Employee_name  Years    Assessment_Records\n",
      "Alegbe Luis     5                  44.5 \n",
      "Anna Mabuta     10                  67.4 \n",
      "Karim Kafi      15                  23.8 \n",
      "Esther Moses     8                  71.1 \n",
      "Jonah Longe      4                  50.3 \n",
      "Coins Fagbemi   20                  63.3 \n"
     ]
    }
   ],
   "source": [
    "#Question2b\n",
    "print('Employee_name  Years    Assessment_Records')\n",
    "print ('Alegbe Luis     5                  44.5 ')\n",
    "print('Anna Mabuta     10                  67.4 ')\n",
    "print('Karim Kafi      15                  23.8 ')\n",
    "print('Esther Moses     8                  71.1 ')\n",
    "print('Jonah Longe      4                  50.3 ')\n",
    "print('Coins Fagbemi   20                  63.3 ')\n",
    "d = 44.5\n",
    "e = 67.4\n",
    "f = 23.8\n",
    "g = 71.1\n",
    "h = 50.3\n",
    "i = 63.3"
   ]
  },
  {
   "cell_type": "code",
   "execution_count": null,
   "metadata": {},
   "outputs": [],
   "source": []
  }
 ],
 "metadata": {
  "kernelspec": {
   "display_name": "Python 3",
   "language": "python",
   "name": "python3"
  },
  "language_info": {
   "codemirror_mode": {
    "name": "ipython",
    "version": 3
   },
   "file_extension": ".py",
   "mimetype": "text/x-python",
   "name": "python",
   "nbconvert_exporter": "python",
   "pygments_lexer": "ipython3",
   "version": "3.8.3"
  }
 },
 "nbformat": 4,
 "nbformat_minor": 4
}

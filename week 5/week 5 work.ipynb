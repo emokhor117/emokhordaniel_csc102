{
 "cells": [
  {
   "cell_type": "markdown",
   "metadata": {},
   "source": [
    "# name function avoids\n",
    "## create a string "
   ]
  },
  {
   "cell_type": "code",
   "execution_count": 2,
   "metadata": {},
   "outputs": [
    {
     "name": "stdout",
     "output_type": "stream",
     "text": [
      "Choose even or odd\n",
      "Jane's turn11\n",
      "Jack's turn 3\n",
      "Jane wins\n"
     ]
    }
   ],
   "source": [
    "#project 3\n",
    "f= print(\"Choose even or odd\")\n",
    "first_friend =int(input(\"Jane's turn\"))\n",
    "second_friend = int(input(\"Jack's turn \"))\n",
    "total = first_friend + second_friend\n",
    "if total % 2 == 0:\n",
    "    print(\"Jane wins\")\n",
    "                    \n",
    "else:\n",
    "    print(\"Jack wins\")\n"
   ]
  },
  {
   "cell_type": "code",
   "execution_count": null,
   "metadata": {},
   "outputs": [],
   "source": [
    "def (uses_all)\n",
    " "
   ]
  }
 ],
 "metadata": {
  "kernelspec": {
   "display_name": "Python 3",
   "language": "python",
   "name": "python3"
  },
  "language_info": {
   "codemirror_mode": {
    "name": "ipython",
    "version": 3
   },
   "file_extension": ".py",
   "mimetype": "text/x-python",
   "name": "python",
   "nbconvert_exporter": "python",
   "pygments_lexer": "ipython3",
   "version": "3.8.3"
  }
 },
 "nbformat": 4,
 "nbformat_minor": 4
}

{
 "cells": [
  {
   "cell_type": "code",
   "execution_count": 3,
   "metadata": {},
   "outputs": [
    {
     "name": "stdout",
     "output_type": "stream",
     "text": [
      "Enter a number to generate its pattern = 2\n",
      "1 \n",
      "1 2 \n"
     ]
    }
   ],
   "source": [
    "num = int(input(\"Enter a number to generate its pattern = \"))\n",
    "for i in range(1, num + 1):\n",
    "    for j in range(1,i + 1):\n",
    "        print(j, end = \" \")\n",
    "    print()"
   ]
  },
  {
   "cell_type": "code",
   "execution_count": 5,
   "metadata": {},
   "outputs": [
    {
     "name": "stdout",
     "output_type": "stream",
     "text": [
      "2 is a prime number\n",
      "3 is a prime number\n",
      "5 is a prime number\n",
      "7 is a prime number\n",
      "11 is a prime number\n",
      "13 is a prime number\n",
      "17 is a prime number\n",
      "19 is a prime number\n",
      "23 is a prime number\n",
      "29 is a prime number\n",
      "31 is a prime number\n",
      "37 is a prime number\n",
      "41 is a prime number\n",
      "43 is a prime number\n",
      "47 is a prime number\n",
      "53 is a prime number\n",
      "59 is a prime number\n",
      "61 is a prime number\n",
      "67 is a prime number\n",
      "71 is a prime number\n",
      "73 is a prime number\n",
      "79 is a prime number\n",
      "83 is a prime number\n",
      "89 is a prime number\n",
      "97 is a prime number\n",
      "101 is a prime number\n",
      "103 is a prime number\n",
      "107 is a prime number\n",
      "109 is a prime number\n",
      "113 is a prime number\n",
      "127 is a prime number\n",
      "131 is a prime number\n",
      "137 is a prime number\n",
      "139 is a prime number\n",
      "149 is a prime number\n",
      "151 is a prime number\n",
      "157 is a prime number\n",
      "163 is a prime number\n",
      "167 is a prime number\n",
      "173 is a prime number\n",
      "179 is a prime number\n",
      "181 is a prime number\n",
      "191 is a prime number\n",
      "193 is a prime number\n",
      "197 is a prime number\n",
      "199 is a prime number\n",
      "211 is a prime number\n",
      "223 is a prime number\n",
      "227 is a prime number\n",
      "229 is a prime number\n",
      "233 is a prime number\n",
      "239 is a prime number\n",
      "241 is a prime number\n",
      "251 is a prime number\n",
      "257 is a prime number\n",
      "263 is a prime number\n",
      "269 is a prime number\n",
      "271 is a prime number\n",
      "277 is a prime number\n",
      "281 is a prime number\n",
      "283 is a prime number\n",
      "293 is a prime number\n",
      "307 is a prime number\n",
      "311 is a prime number\n",
      "313 is a prime number\n",
      "317 is a prime number\n",
      "331 is a prime number\n",
      "337 is a prime number\n",
      "347 is a prime number\n",
      "349 is a prime number\n",
      "353 is a prime number\n",
      "359 is a prime number\n",
      "367 is a prime number\n",
      "373 is a prime number\n",
      "379 is a prime number\n",
      "383 is a prime number\n",
      "389 is a prime number\n",
      "397 is a prime number\n",
      "401 is a prime number\n",
      "409 is a prime number\n",
      "419 is a prime number\n",
      "421 is a prime number\n",
      "431 is a prime number\n",
      "433 is a prime number\n",
      "439 is a prime number\n",
      "443 is a prime number\n",
      "449 is a prime number\n",
      "457 is a prime number\n",
      "461 is a prime number\n",
      "463 is a prime number\n",
      "467 is a prime number\n",
      "479 is a prime number\n",
      "487 is a prime number\n",
      "491 is a prime number\n",
      "499 is a prime number\n",
      "Bye Bye\n"
     ]
    }
   ],
   "source": [
    "num = 2\n",
    "for i in range(2, 500):\n",
    "    j=2\n",
    "    while ( j <= (i/2)):\n",
    "        if (i % j == 0):\n",
    "            break\n",
    "        j += 1\n",
    "    if ( j > i/j):\n",
    "        print ( i, \"is a prime number\")\n",
    "print (\"Bye Bye\")"
   ]
  },
  {
   "cell_type": "code",
   "execution_count": null,
   "metadata": {},
   "outputs": [],
   "source": []
  }
 ],
 "metadata": {
  "kernelspec": {
   "display_name": "Python 3",
   "language": "python",
   "name": "python3"
  },
  "language_info": {
   "codemirror_mode": {
    "name": "ipython",
    "version": 3
   },
   "file_extension": ".py",
   "mimetype": "text/x-python",
   "name": "python",
   "nbconvert_exporter": "python",
   "pygments_lexer": "ipython3",
   "version": "3.8.3"
  }
 },
 "nbformat": 4,
 "nbformat_minor": 4
}

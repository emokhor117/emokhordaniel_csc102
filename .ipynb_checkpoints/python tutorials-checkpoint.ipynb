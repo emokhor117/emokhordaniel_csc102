{
 "cells": [
  {
   "cell_type": "code",
   "execution_count": null,
   "metadata": {
    "scrolled": true
   },
   "outputs": [],
   "source": [
    "n = int(input('Please input your number'))\n",
    "total_sum = 0\n",
    "i=0\n",
    "while i != n:\n",
    "    num = int(input('Input a number'))\n",
    "    total_sum += num\n",
    "    i += 1\n",
    "\n",
    "print(total_sum)"
   ]
  },
  {
   "cell_type": "code",
   "execution_count": null,
   "metadata": {},
   "outputs": [],
   "source": [
    "n = int(input('Please input a number: '))\n",
    "total_sum = 0\n",
    "for i in range(1,13,10):\n",
    "    print(f'{n} x {i} = {n*i}') "
   ]
  },
  {
   "cell_type": "code",
   "execution_count": null,
   "metadata": {},
   "outputs": [],
   "source": [
    "n = int(input('Input a number'))\n",
    "for i in range (1, n):\n",
    "    print(f'{n} + {i} = {n+i}')"
   ]
  },
  {
   "cell_type": "code",
   "execution_count": null,
   "metadata": {},
   "outputs": [],
   "source": [
    "n = int(input('provide a value for n: '))\n",
    "total_sum = 0\n",
    "for i in range(1, n+1):\n",
    "    temp_sum = i**3\n",
    "    total_sum = total_sum + temp_sum\n",
    "    print(temp_sum,total_sum)\n",
    "    "
   ]
  },
  {
   "cell_type": "code",
   "execution_count": null,
   "metadata": {},
   "outputs": [],
   "source": [
    "n = int(input('Put in a number: '))\n",
    "total_sum = 0\n",
    "for i in range(1, n+1):\n",
    "    temp_sum = \n",
    "    total_sum = total_sum + temp_sum\n",
    "    print(temp_sum)"
   ]
  },
  {
   "cell_type": "code",
   "execution_count": null,
   "metadata": {},
   "outputs": [],
   "source": [
    "n = int(input('Please input your number'))\n",
    "total_sum = 0\n",
    "i=0\n",
    "while i != n:\n",
    "    \n",
    "    total_sum += n\n",
    "    i += 1\n",
    "\n",
    "print(total_sum)\n",
    "\n",
    "   \n",
    "    "
   ]
  },
  {
   "cell_type": "code",
   "execution_count": null,
   "metadata": {},
   "outputs": [],
   "source": [
    "n = int(input('Please input your number'))\n",
    "total_sum = 0\n",
    "i=0\n",
    "while i != n:\n",
    " \n",
    "    total_sum += num\n",
    "    i += 1\n",
    "\n",
    "print(total_sum)"
   ]
  },
  {
   "cell_type": "code",
   "execution_count": null,
   "metadata": {},
   "outputs": [],
   "source": [
    "#Python program to count positive and negative numbers in a list\n",
    "#Given a list of numbers, write a Python program to count positive and negative numbers in a List.\n",
    "\n",
    "#Example:\n",
    "\n",
    "#Input: list1 = [2, -7, 5, -64, -14]\n",
    "#Output: pos = 2, neg = 3\n",
    "\n",
    "#Input: list2 = [-12, 14, 95, 3]\n",
    "#Output: pos = 3, neg = 1\n",
    "\n",
    "\n",
    "\n",
    "list1 = [3, 4, -5, -6]\n",
    "n = len(list1)\n",
    "temp_sum = 0\n",
    "for i in range(n):\n",
    "    temp_sum += list1[i]\n",
    "print(temp_sum)\n",
    "\n",
    "pos =0\n",
    "neg = 0\n",
    "for i in range(n):\n",
    "    if list1[i] > 0:\n",
    "        pos += 1\n",
    "    elif list1[i] < 0:\n",
    "        neg += 1\n",
    "print(pos,neg)\n",
    "    \n",
    "    "
   ]
  },
  {
   "cell_type": "code",
   "execution_count": null,
   "metadata": {},
   "outputs": [],
   "source": [
    "#Write a program to calculate the volume and surface area of a sphere from \n",
    " #its radius, given as input. Here are some formulas that might be useful: \n",
    "#V = 4/37rr3 \n",
    "#A= 47rr2\n",
    "\n",
    "\n",
    "\n",
    "v = int(input('Input the value of the volume: '))\n",
    "r = int(input('Input the value of the radius: '))\n",
    "\n",
    "volume= (4/3)*3.142*(r**3)\n",
    "area= 4*3.142*(r**2)\n",
    "\n",
    "print(volume, area)"
   ]
  },
  {
   "cell_type": "code",
   "execution_count": null,
   "metadata": {},
   "outputs": [],
   "source": [
    "#Make sense\n",
    "#the Konditorei coffee shop sells coffee at $10.50 a pound plus the cost \n",
    "#of shipping. Each order ships for $0.86 per pound + $1.50 fixed cost for \n",
    "#overhead. Write a program that calculates the cost of an order.\n",
    "\n",
    "c= int(input('How many pounds of coffee do you wish to have? '))\n",
    "cash= 10.50*c\n",
    "ship=  (0.86*c) + 1.50\n",
    "total_order = cash+ship\n",
    "print('your total order is,', total_order)"
   ]
  },
  {
   "cell_type": "code",
   "execution_count": null,
   "metadata": {},
   "outputs": [],
   "source": [
    "# Two points in a plane are specified using the coordinates (x1,y1) and \n",
    "#(x2,y2). Write a program that calculates the slope of a line through two \n",
    "#(non-vertical) points entered by the user.\n",
    "\n",
    "x1= int(input('Enter a value for x1: '))\n",
    "x2= int(input('Enter a value for x2: '))\n",
    "y1= int(input('Enter a value for y1: '))\n",
    "y2= int(input('Enter a value for y2: '))\n",
    "\n",
    "\n",
    "up= x2-x1\n",
    "down= y2-y1\n",
    "slope = up/down\n",
    "\n",
    "print(slope)"
   ]
  },
  {
   "cell_type": "code",
   "execution_count": null,
   "metadata": {},
   "outputs": [],
   "source": [
    "#The Gregorian epact is the number of days between January 1\n",
    "#st and the \n",
    "#previous new moon. This value is used to figure out the date of Easter. It \n",
    "#is calculated by these formulas (using int arithmetic): \n",
    "#C = year/ /100  \n",
    "#epact = (8 + (C//4)- C + ((80 + 13)//25) + 11(year%19))%30 \n",
    "#Write a program that prompts the user for a 4-digit year and then outputs \n",
    "#the value of the epact.\n",
    "\n",
    "year=int(input('Please into a particular year here: '))\n",
    "\n",
    "C = year/100\n",
    "epact = (8+(C/4)-C+((80+13)/25)+11*(year))\n",
    "\n",
    "\n"
   ]
  },
  {
   "cell_type": "code",
   "execution_count": 5,
   "metadata": {},
   "outputs": [
    {
     "name": "stdout",
     "output_type": "stream",
     "text": [
      "0\n"
     ]
    }
   ],
   "source": [
    "C= 4%2\n",
    "print(C)"
   ]
  },
  {
   "cell_type": "code",
   "execution_count": 6,
   "metadata": {},
   "outputs": [
    {
     "name": "stdout",
     "output_type": "stream",
     "text": [
      "1653334454.984578\n"
     ]
    }
   ],
   "source": [
    "import time\n",
    "current_time= time.time()\n",
    "print(current_time)"
   ]
  },
  {
   "cell_type": "code",
   "execution_count": 21,
   "metadata": {},
   "outputs": [
    {
     "name": "stdout",
     "output_type": "stream",
     "text": [
      "Input number of seconds here: 36000\n",
      "10 600 0\n"
     ]
    }
   ],
   "source": [
    "n= int(input('Input number of seconds here: '))\n",
    "minute= n//60\n",
    "seconds= n%60\n",
    "hours= minute//60\n",
    "print(hours, minute, seconds)\n",
    "if minute > 60:\n",
    "   \n",
    "    \n"
   ]
  },
  {
   "cell_type": "code",
   "execution_count": null,
   "metadata": {},
   "outputs": [],
   "source": []
  }
 ],
 "metadata": {
  "kernelspec": {
   "display_name": "Python 3",
   "language": "python",
   "name": "python3"
  },
  "language_info": {
   "codemirror_mode": {
    "name": "ipython",
    "version": 3
   },
   "file_extension": ".py",
   "mimetype": "text/x-python",
   "name": "python",
   "nbconvert_exporter": "python",
   "pygments_lexer": "ipython3",
   "version": "3.8.3"
  }
 },
 "nbformat": 4,
 "nbformat_minor": 4
}
